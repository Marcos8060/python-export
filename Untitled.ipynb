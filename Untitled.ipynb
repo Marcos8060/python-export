{
 "cells": [
  {
   "cell_type": "code",
   "execution_count": 1,
   "id": "d68b260f-a3ec-4da2-94b6-ca832bbb8f78",
   "metadata": {},
   "outputs": [],
   "source": [
    "import pandas as pd"
   ]
  },
  {
   "cell_type": "code",
   "execution_count": 2,
   "id": "a176870f-0242-4e65-b7f6-bdd39cf0a579",
   "metadata": {},
   "outputs": [],
   "source": [
    "excel_file: str = \"export.xlsx\"\n",
    "report_df = pd.read_excel(excel_file,)"
   ]
  },
  {
   "cell_type": "code",
   "execution_count": 3,
   "id": "c4afbf68-d88e-447e-a7bb-cd2662684725",
   "metadata": {},
   "outputs": [
    {
     "name": "stdout",
     "output_type": "stream",
     "text": [
      "<class 'pandas.core.frame.DataFrame'>\n",
      "RangeIndex: 3232 entries, 0 to 3231\n",
      "Data columns (total 11 columns):\n",
      " #   Column                   Non-Null Count  Dtype \n",
      "---  ------                   --------------  ----- \n",
      " 0   First Name               3232 non-null   object\n",
      " 1   Last Name                3232 non-null   object\n",
      " 2   Username                 3232 non-null   object\n",
      " 3   Organisation             3232 non-null   object\n",
      " 4   Course Name              3232 non-null   object\n",
      " 5   Completed Date           2379 non-null   object\n",
      " 6   Due / Expiry Date        2300 non-null   object\n",
      " 7   CSA Status               3232 non-null   object\n",
      " 8   Certification ID number  3232 non-null   object\n",
      " 9   User ID                  3232 non-null   int64 \n",
      " 10  Is current?              3232 non-null   int64 \n",
      "dtypes: int64(2), object(9)\n",
      "memory usage: 277.9+ KB\n"
     ]
    }
   ],
   "source": [
    "report_df.info()"
   ]
  },
  {
   "cell_type": "code",
   "execution_count": 4,
   "id": "fa4149fe-e71c-491e-83df-1a10664112a2",
   "metadata": {},
   "outputs": [
    {
     "data": {
      "text/html": [
       "<div>\n",
       "<style scoped>\n",
       "    .dataframe tbody tr th:only-of-type {\n",
       "        vertical-align: middle;\n",
       "    }\n",
       "\n",
       "    .dataframe tbody tr th {\n",
       "        vertical-align: top;\n",
       "    }\n",
       "\n",
       "    .dataframe thead th {\n",
       "        text-align: right;\n",
       "    }\n",
       "</style>\n",
       "<table border=\"1\" class=\"dataframe\">\n",
       "  <thead>\n",
       "    <tr style=\"text-align: right;\">\n",
       "      <th></th>\n",
       "      <th>First Name</th>\n",
       "      <th>Last Name</th>\n",
       "      <th>Username</th>\n",
       "      <th>Organisation</th>\n",
       "      <th>Course Name</th>\n",
       "      <th>Completed Date</th>\n",
       "      <th>Due / Expiry Date</th>\n",
       "      <th>CSA Status</th>\n",
       "      <th>Certification ID number</th>\n",
       "      <th>User ID</th>\n",
       "      <th>Is current?</th>\n",
       "    </tr>\n",
       "  </thead>\n",
       "  <tbody>\n",
       "    <tr>\n",
       "      <th>0</th>\n",
       "      <td>Minhazul</td>\n",
       "      <td>Abedin</td>\n",
       "      <td>mdminhazulabedin@hotmail.com</td>\n",
       "      <td>Sinomax International Ltd Supported Living</td>\n",
       "      <td>Fire Safety</td>\n",
       "      <td>13/12/2023</td>\n",
       "      <td>13/12/2025</td>\n",
       "      <td>Completed</td>\n",
       "      <td>Fire Safety (24-month)</td>\n",
       "      <td>227869</td>\n",
       "      <td>1</td>\n",
       "    </tr>\n",
       "    <tr>\n",
       "      <th>1</th>\n",
       "      <td>Minhazul</td>\n",
       "      <td>Abedin</td>\n",
       "      <td>mdminhazulabedin@hotmail.com</td>\n",
       "      <td>Sinomax International Ltd Supported Living</td>\n",
       "      <td>First Aid</td>\n",
       "      <td>23/12/2023</td>\n",
       "      <td>23/12/2025</td>\n",
       "      <td>Completed</td>\n",
       "      <td>First Aid (24-month)</td>\n",
       "      <td>227869</td>\n",
       "      <td>1</td>\n",
       "    </tr>\n",
       "    <tr>\n",
       "      <th>2</th>\n",
       "      <td>Minhazul</td>\n",
       "      <td>Abedin</td>\n",
       "      <td>mdminhazulabedin@hotmail.com</td>\n",
       "      <td>Sinomax International Ltd Supported Living</td>\n",
       "      <td>Health and Safety</td>\n",
       "      <td>09/01/2024</td>\n",
       "      <td>09/01/2026</td>\n",
       "      <td>Completed</td>\n",
       "      <td>Health and Safety (24-month)</td>\n",
       "      <td>227869</td>\n",
       "      <td>1</td>\n",
       "    </tr>\n",
       "    <tr>\n",
       "      <th>3</th>\n",
       "      <td>Minhazul</td>\n",
       "      <td>Abedin</td>\n",
       "      <td>mdminhazulabedin@hotmail.com</td>\n",
       "      <td>Sinomax International Ltd Supported Living</td>\n",
       "      <td>Infection Control</td>\n",
       "      <td>09/01/2024</td>\n",
       "      <td>09/01/2026</td>\n",
       "      <td>Completed</td>\n",
       "      <td>Infection Control (24-month)</td>\n",
       "      <td>227869</td>\n",
       "      <td>1</td>\n",
       "    </tr>\n",
       "    <tr>\n",
       "      <th>4</th>\n",
       "      <td>Minhazul</td>\n",
       "      <td>Abedin</td>\n",
       "      <td>mdminhazulabedin@hotmail.com</td>\n",
       "      <td>Sinomax International Ltd Supported Living</td>\n",
       "      <td>Medication Practice</td>\n",
       "      <td>10/01/2024</td>\n",
       "      <td>10/01/2026</td>\n",
       "      <td>Completed</td>\n",
       "      <td>Medication Practice (24-month)</td>\n",
       "      <td>227869</td>\n",
       "      <td>1</td>\n",
       "    </tr>\n",
       "  </tbody>\n",
       "</table>\n",
       "</div>"
      ],
      "text/plain": [
       "  First Name Last Name                      Username  \\\n",
       "0   Minhazul    Abedin  mdminhazulabedin@hotmail.com   \n",
       "1   Minhazul    Abedin  mdminhazulabedin@hotmail.com   \n",
       "2   Minhazul    Abedin  mdminhazulabedin@hotmail.com   \n",
       "3   Minhazul    Abedin  mdminhazulabedin@hotmail.com   \n",
       "4   Minhazul    Abedin  mdminhazulabedin@hotmail.com   \n",
       "\n",
       "                                 Organisation          Course Name  \\\n",
       "0  Sinomax International Ltd Supported Living          Fire Safety   \n",
       "1  Sinomax International Ltd Supported Living            First Aid   \n",
       "2  Sinomax International Ltd Supported Living    Health and Safety   \n",
       "3  Sinomax International Ltd Supported Living    Infection Control   \n",
       "4  Sinomax International Ltd Supported Living  Medication Practice   \n",
       "\n",
       "  Completed Date Due / Expiry Date CSA Status         Certification ID number  \\\n",
       "0     13/12/2023        13/12/2025  Completed          Fire Safety (24-month)   \n",
       "1     23/12/2023        23/12/2025  Completed            First Aid (24-month)   \n",
       "2     09/01/2024        09/01/2026  Completed    Health and Safety (24-month)   \n",
       "3     09/01/2024        09/01/2026  Completed    Infection Control (24-month)   \n",
       "4     10/01/2024        10/01/2026  Completed  Medication Practice (24-month)   \n",
       "\n",
       "   User ID  Is current?  \n",
       "0   227869            1  \n",
       "1   227869            1  \n",
       "2   227869            1  \n",
       "3   227869            1  \n",
       "4   227869            1  "
      ]
     },
     "execution_count": 4,
     "metadata": {},
     "output_type": "execute_result"
    }
   ],
   "source": [
    "report_df.head()"
   ]
  },
  {
   "cell_type": "code",
   "execution_count": 5,
   "id": "ce16b89d-7ce8-400b-a891-865509abca6b",
   "metadata": {},
   "outputs": [],
   "source": [
    "# connect to my sql database"
   ]
  },
  {
   "cell_type": "code",
   "execution_count": 6,
   "id": "3b6efdda-3402-4341-bafa-6a93b520058b",
   "metadata": {},
   "outputs": [],
   "source": [
    "from mysql import connector"
   ]
  },
  {
   "cell_type": "code",
   "execution_count": 7,
   "id": "413bfc95-5af6-4489-ad6e-f9b4ca936e03",
   "metadata": {},
   "outputs": [],
   "source": [
    "# MySQL database connection parameters\n",
    "db_user = 'root'\n",
    "db_password = 'Gazelle27#'\n",
    "db_host = 'localhost'\n",
    "db_name = 'careskills'"
   ]
  },
  {
   "cell_type": "code",
   "execution_count": 8,
   "id": "8c3fee5b-6056-435d-a7e6-530460711c81",
   "metadata": {},
   "outputs": [],
   "source": [
    "# Create a SQLAlchemy engine\n",
    "connection = connector.connect(\n",
    "    user=db_user,\n",
    "    password=db_password,\n",
    "    host=db_host,\n",
    "    database=db_name,\n",
    "    auth_plugin=\"mysql_native_password\",\n",
    ")"
   ]
  },
  {
   "cell_type": "code",
   "execution_count": 9,
   "id": "9393ea20-92a6-4aba-9d3c-e5b4a0df00e8",
   "metadata": {},
   "outputs": [],
   "source": [
    "table_name = \"skill_reports\""
   ]
  },
  {
   "cell_type": "code",
   "execution_count": 10,
   "id": "3174c23a-08ae-4553-8cd4-54ee79ea16e6",
   "metadata": {},
   "outputs": [],
   "source": [
    "import re"
   ]
  },
  {
   "cell_type": "code",
   "execution_count": 11,
   "id": "b4f01a63-23c1-42c2-8bfb-d9d6bb5e61b9",
   "metadata": {},
   "outputs": [
    {
     "name": "stdout",
     "output_type": "stream",
     "text": [
      "first_name\n",
      "last_name\n",
      "username\n",
      "organisation\n",
      "course_name\n",
      "completed_date\n",
      "due__expiry_date\n",
      "csa_status\n",
      "certification_id_number\n",
      "user_id\n",
      "is_current\n"
     ]
    }
   ],
   "source": [
    "cols = []\n",
    "for col in report_df.columns:\n",
    "    #     remove charcters that arent alphabets\n",
    "    alpha_col = re.sub(r'[^a-zA-Z\\s]', '', col)\n",
    "    new_col = alpha_col.lower().replace(\" \", \"_\")\n",
    "    cols.append(new_col)\n",
    "    print(new_col)"
   ]
  },
  {
   "cell_type": "code",
   "execution_count": 12,
   "id": "c5c03912-ea06-429d-a0bf-4054bccfb7ce",
   "metadata": {},
   "outputs": [
    {
     "data": {
      "text/plain": [
       "['first_name',\n",
       " 'last_name',\n",
       " 'username',\n",
       " 'organisation',\n",
       " 'course_name',\n",
       " 'completed_date',\n",
       " 'due__expiry_date',\n",
       " 'csa_status',\n",
       " 'certification_id_number',\n",
       " 'user_id',\n",
       " 'is_current']"
      ]
     },
     "execution_count": 12,
     "metadata": {},
     "output_type": "execute_result"
    }
   ],
   "source": [
    "cols"
   ]
  },
  {
   "cell_type": "code",
   "execution_count": 13,
   "id": "747dcdab-248e-45d9-8823-be2c109ca084",
   "metadata": {},
   "outputs": [],
   "source": [
    "column_definitions = ', '.join([f'{col} TEXT' for col in cols])"
   ]
  },
  {
   "cell_type": "code",
   "execution_count": 14,
   "id": "cb26017e-a6ba-4763-a199-bc971dcb12ed",
   "metadata": {},
   "outputs": [
    {
     "data": {
      "text/plain": [
       "'first_name TEXT, last_name TEXT, username TEXT, organisation TEXT, course_name TEXT, completed_date TEXT, due__expiry_date TEXT, csa_status TEXT, certification_id_number TEXT, user_id TEXT, is_current TEXT'"
      ]
     },
     "execution_count": 14,
     "metadata": {},
     "output_type": "execute_result"
    }
   ],
   "source": [
    "column_definitions"
   ]
  },
  {
   "cell_type": "code",
   "execution_count": 15,
   "id": "1f9aa0cb-750b-4f59-b4b0-62c873dd6402",
   "metadata": {},
   "outputs": [
    {
     "name": "stdout",
     "output_type": "stream",
     "text": [
      "CREATE TABLE skill_reports(first_name VARCHAR(255),last_name VARCHAR(255),username VARCHAR(255),organisation TEXT,course_name TEXT,completed_date TEXT,due_expiry_date TEXT,csa_status TEXT,certification_id_number TEXT,user_id INTEGER,is_current INTEGER);\n"
     ]
    }
   ],
   "source": [
    "created_table_cmd = (\n",
    "\"CREATE TABLE {table_name}(\"\n",
    "    \"first_name VARCHAR(255),\"\n",
    "    \"last_name VARCHAR(255),\"\n",
    "    \"username VARCHAR(255),\"\n",
    "    \"organisation TEXT,\"\n",
    "    \"course_name TEXT,\"\n",
    "    \"completed_date TEXT,\"\n",
    "    \"due_expiry_date TEXT,\"\n",
    "    \"csa_status TEXT,\"\n",
    "    \"certification_id_number TEXT,\"\n",
    "    \"user_id INTEGER,\"\n",
    "    \"is_current INTEGER\"\n",
    "    \");\"\n",
    ").format(table_name=table_name)\n",
    "drop_table_cmd = f'''\n",
    "DROP TABLE IF EXISTS {table_name};\n",
    "'''\n",
    "print(created_table_cmd)"
   ]
  },
  {
   "cell_type": "code",
   "execution_count": 16,
   "id": "430572b4-bde4-4cf5-bf42-1f99e08fbd1d",
   "metadata": {},
   "outputs": [],
   "source": [
    "cursor = connection.cursor()"
   ]
  },
  {
   "cell_type": "code",
   "execution_count": 17,
   "id": "8357b030-f243-4225-8b4b-0e7456e7f392",
   "metadata": {},
   "outputs": [],
   "source": [
    "cursor.execute(drop_table_cmd)"
   ]
  },
  {
   "cell_type": "code",
   "execution_count": 18,
   "id": "27b7446c-b4f1-466a-a8bb-7b520101a6eb",
   "metadata": {},
   "outputs": [],
   "source": [
    "cursor.execute(created_table_cmd)"
   ]
  },
  {
   "cell_type": "code",
   "execution_count": null,
   "id": "a8212df2-fced-44c6-b820-f4cb8a855cc3",
   "metadata": {},
   "outputs": [],
   "source": []
  },
  {
   "cell_type": "code",
   "execution_count": 19,
   "id": "4fa0317d-f71d-475d-9afd-5629eba8ebd4",
   "metadata": {},
   "outputs": [
    {
     "data": {
      "text/plain": [
       "First Name                 False\n",
       "Last Name                  False\n",
       "Username                   False\n",
       "Organisation               False\n",
       "Course Name                False\n",
       "Completed Date              True\n",
       "Due / Expiry Date           True\n",
       "CSA Status                 False\n",
       "Certification ID number    False\n",
       "User ID                    False\n",
       "Is current?                False\n",
       "dtype: bool"
      ]
     },
     "execution_count": 19,
     "metadata": {},
     "output_type": "execute_result"
    }
   ],
   "source": [
    "report_df.isnull().any()"
   ]
  },
  {
   "cell_type": "code",
   "execution_count": 20,
   "id": "53cc2717-4e19-4dcf-9205-a47640ce2d43",
   "metadata": {},
   "outputs": [
    {
     "data": {
      "text/plain": [
       "Index(['Completed Date', 'Due / Expiry Date'], dtype='object')"
      ]
     },
     "execution_count": 20,
     "metadata": {},
     "output_type": "execute_result"
    }
   ],
   "source": [
    "report_df.columns[report_df.isnull().any()]"
   ]
  },
  {
   "cell_type": "code",
   "execution_count": 21,
   "id": "9bf93fe1-2ced-4f7c-8bba-6aae9c071f46",
   "metadata": {},
   "outputs": [
    {
     "data": {
      "text/html": [
       "<div>\n",
       "<style scoped>\n",
       "    .dataframe tbody tr th:only-of-type {\n",
       "        vertical-align: middle;\n",
       "    }\n",
       "\n",
       "    .dataframe tbody tr th {\n",
       "        vertical-align: top;\n",
       "    }\n",
       "\n",
       "    .dataframe thead th {\n",
       "        text-align: right;\n",
       "    }\n",
       "</style>\n",
       "<table border=\"1\" class=\"dataframe\">\n",
       "  <thead>\n",
       "    <tr style=\"text-align: right;\">\n",
       "      <th></th>\n",
       "      <th>First Name</th>\n",
       "      <th>Last Name</th>\n",
       "      <th>Username</th>\n",
       "      <th>Organisation</th>\n",
       "      <th>Course Name</th>\n",
       "      <th>Completed Date</th>\n",
       "      <th>Due / Expiry Date</th>\n",
       "      <th>CSA Status</th>\n",
       "      <th>Certification ID number</th>\n",
       "      <th>User ID</th>\n",
       "      <th>Is current?</th>\n",
       "    </tr>\n",
       "  </thead>\n",
       "  <tbody>\n",
       "    <tr>\n",
       "      <th>60</th>\n",
       "      <td>Edith</td>\n",
       "      <td>Aduhene</td>\n",
       "      <td>akosuakt@gmail.com</td>\n",
       "      <td>Sinomax International Ltd Supported Living</td>\n",
       "      <td>Fire Safety</td>\n",
       "      <td>NaN</td>\n",
       "      <td>NaN</td>\n",
       "      <td>In Progress</td>\n",
       "      <td>Fire Safety (12-month)</td>\n",
       "      <td>213697</td>\n",
       "      <td>1</td>\n",
       "    </tr>\n",
       "  </tbody>\n",
       "</table>\n",
       "</div>"
      ],
      "text/plain": [
       "   First Name Last Name            Username  \\\n",
       "60      Edith   Aduhene  akosuakt@gmail.com   \n",
       "\n",
       "                                  Organisation  Course Name Completed Date  \\\n",
       "60  Sinomax International Ltd Supported Living  Fire Safety            NaN   \n",
       "\n",
       "   Due / Expiry Date   CSA Status Certification ID number  User ID  \\\n",
       "60               NaN  In Progress  Fire Safety (12-month)   213697   \n",
       "\n",
       "    Is current?  \n",
       "60            1  "
      ]
     },
     "execution_count": 21,
     "metadata": {},
     "output_type": "execute_result"
    }
   ],
   "source": [
    "report_df[report_df[\"Completed Date\"].isna()].head(1)"
   ]
  },
  {
   "cell_type": "code",
   "execution_count": 22,
   "id": "d5fd617d-0887-4e3b-9328-5aa77f597942",
   "metadata": {},
   "outputs": [],
   "source": [
    "report_df_cp = report_df.replace({pd.NA: None})"
   ]
  },
  {
   "cell_type": "code",
   "execution_count": 23,
   "id": "0bd20abc-ab76-43e2-a4e9-ed97de190d58",
   "metadata": {},
   "outputs": [
    {
     "data": {
      "text/html": [
       "<div>\n",
       "<style scoped>\n",
       "    .dataframe tbody tr th:only-of-type {\n",
       "        vertical-align: middle;\n",
       "    }\n",
       "\n",
       "    .dataframe tbody tr th {\n",
       "        vertical-align: top;\n",
       "    }\n",
       "\n",
       "    .dataframe thead th {\n",
       "        text-align: right;\n",
       "    }\n",
       "</style>\n",
       "<table border=\"1\" class=\"dataframe\">\n",
       "  <thead>\n",
       "    <tr style=\"text-align: right;\">\n",
       "      <th></th>\n",
       "      <th>First Name</th>\n",
       "      <th>Last Name</th>\n",
       "      <th>Username</th>\n",
       "      <th>Organisation</th>\n",
       "      <th>Course Name</th>\n",
       "      <th>Completed Date</th>\n",
       "      <th>Due / Expiry Date</th>\n",
       "      <th>CSA Status</th>\n",
       "      <th>Certification ID number</th>\n",
       "      <th>User ID</th>\n",
       "      <th>Is current?</th>\n",
       "    </tr>\n",
       "  </thead>\n",
       "  <tbody>\n",
       "    <tr>\n",
       "      <th>60</th>\n",
       "      <td>Edith</td>\n",
       "      <td>Aduhene</td>\n",
       "      <td>akosuakt@gmail.com</td>\n",
       "      <td>Sinomax International Ltd Supported Living</td>\n",
       "      <td>Fire Safety</td>\n",
       "      <td>None</td>\n",
       "      <td>None</td>\n",
       "      <td>In Progress</td>\n",
       "      <td>Fire Safety (12-month)</td>\n",
       "      <td>213697</td>\n",
       "      <td>1</td>\n",
       "    </tr>\n",
       "  </tbody>\n",
       "</table>\n",
       "</div>"
      ],
      "text/plain": [
       "   First Name Last Name            Username  \\\n",
       "60      Edith   Aduhene  akosuakt@gmail.com   \n",
       "\n",
       "                                  Organisation  Course Name Completed Date  \\\n",
       "60  Sinomax International Ltd Supported Living  Fire Safety           None   \n",
       "\n",
       "   Due / Expiry Date   CSA Status Certification ID number  User ID  \\\n",
       "60              None  In Progress  Fire Safety (12-month)   213697   \n",
       "\n",
       "    Is current?  \n",
       "60            1  "
      ]
     },
     "execution_count": 23,
     "metadata": {},
     "output_type": "execute_result"
    }
   ],
   "source": [
    "report_df_cp[report_df_cp[\"Completed Date\"].isna()].head(1)"
   ]
  },
  {
   "cell_type": "code",
   "execution_count": 24,
   "id": "a96a442f-30b9-4700-9b28-ca00a8297977",
   "metadata": {},
   "outputs": [
    {
     "data": {
      "text/plain": [
       "(3232, 11)"
      ]
     },
     "execution_count": 24,
     "metadata": {},
     "output_type": "execute_result"
    }
   ],
   "source": [
    "report_df_cp.shape"
   ]
  },
  {
   "cell_type": "code",
   "execution_count": null,
   "id": "9f264fee-1328-44dc-8aee-f3510701b35e",
   "metadata": {},
   "outputs": [],
   "source": []
  },
  {
   "cell_type": "code",
   "execution_count": null,
   "id": "448f2da3-8e80-4078-8fbd-f0e4561ac231",
   "metadata": {},
   "outputs": [],
   "source": []
  },
  {
   "cell_type": "code",
   "execution_count": 25,
   "id": "e997b02f-4a3b-44dd-867b-9e172355b929",
   "metadata": {},
   "outputs": [
    {
     "name": "stdout",
     "output_type": "stream",
     "text": [
      "\n",
      "INSERT INTO skill_reports (first_name, last_name, username, organisation, course_name, completed_date, due_expiry_date, csa_status, certification_id_number, user_id, is_current) VALUES (%s, %s, %s, %s, %s, %s, %s, %s, %s, %s, %s)\n",
      "\n"
     ]
    }
   ],
   "source": [
    "insert_data_cmd = f'''\n",
    "INSERT INTO {table_name} (first_name, last_name, username, organisation, course_name, completed_date, due_expiry_date, csa_status, certification_id_number, user_id, is_current) VALUES (%s, %s, %s, %s, %s, %s, %s, %s, %s, %s, %s)\n",
    "'''\n",
    "print(insert_data_cmd)"
   ]
  },
  {
   "cell_type": "code",
   "execution_count": 26,
   "id": "57baea68-b60c-4e79-beaa-167d160b73ed",
   "metadata": {},
   "outputs": [],
   "source": [
    "import time"
   ]
  },
  {
   "cell_type": "code",
   "execution_count": 27,
   "id": "052e5796-5d93-4de4-b1b4-da222ce53cc3",
   "metadata": {},
   "outputs": [],
   "source": [
    "\n",
    "for index, row in report_df_cp.iterrows():\n",
    "    if index%2 == 0:\n",
    "        time.sleep(2)\n",
    "    \n",
    "    row_dict = row.to_dict()\n",
    "    row_values = [];\n",
    "    for col in report_df.columns:\n",
    "        row_values.append(row_dict[col])\n",
    "    \n",
    "    cursor.execute(insert_data_cmd, tuple(row_values))\n",
    "    print(index)"
   ]
  },
  {
   "cell_type": "code",
   "execution_count": 28,
   "id": "74ed2a6d-b983-4509-9c07-7ef4003097ae",
   "metadata": {},
   "outputs": [
    {
     "data": {
      "text/plain": [
       "11"
      ]
     },
     "execution_count": 28,
     "metadata": {},
     "output_type": "execute_result"
    }
   ],
   "source": [
    "len(report_df.columns)"
   ]
  },
  {
   "cell_type": "code",
   "execution_count": 29,
   "id": "f56bcfda-9485-4587-84bb-0961a107d944",
   "metadata": {},
   "outputs": [],
   "source": [
    "select_cmd = f'''\n",
    "SELECT * FROM {table_name};\n",
    "'''"
   ]
  },
  {
   "cell_type": "code",
   "execution_count": 30,
   "id": "0fa2878a-46bf-442d-95ea-52b726aed2b2",
   "metadata": {},
   "outputs": [
    {
     "data": {
      "text/plain": [
       "0"
      ]
     },
     "execution_count": 30,
     "metadata": {},
     "output_type": "execute_result"
    }
   ],
   "source": [
    "cursor.execute(select_cmd)\n",
    "\n",
    "# Fetch all the values\n",
    "column_values = cursor.fetchall()\n",
    "len(column_values)"
   ]
  },
  {
   "cell_type": "code",
   "execution_count": 31,
   "id": "42d90a33-1286-4585-9390-f5a94f92be3a",
   "metadata": {},
   "outputs": [],
   "source": [
    "delete_data_cmd = f'''\n",
    "DELETE FROM {table_name};\n",
    "'''"
   ]
  },
  {
   "cell_type": "code",
   "execution_count": 32,
   "id": "920fafb0-0819-44b9-a840-298c497b07de",
   "metadata": {},
   "outputs": [],
   "source": [
    "cursor.execute(delete_data_cmd)"
   ]
  },
  {
   "cell_type": "code",
   "execution_count": 33,
   "id": "cc725f35-7525-4873-9a04-8924ffab5602",
   "metadata": {},
   "outputs": [
    {
     "name": "stdout",
     "output_type": "stream",
     "text": [
      "Package                            Version\n",
      "---------------------------------- -------------------\n",
      "alabaster                          0.7.12\n",
      "anaconda-client                    1.7.2\n",
      "anaconda-navigator                 2.0.3\n",
      "anaconda-project                   0.9.1\n",
      "anyio                              2.2.0\n",
      "appdirs                            1.4.4\n",
      "argh                               0.26.2\n",
      "argon2-cffi                        20.1.0\n",
      "asn1crypto                         1.4.0\n",
      "astroid                            2.5\n",
      "astropy                            4.2.1\n",
      "async-generator                    1.10\n",
      "atomicwrites                       1.4.0\n",
      "attrs                              20.3.0\n",
      "autopep8                           1.5.6\n",
      "Babel                              2.9.0\n",
      "backcall                           0.2.0\n",
      "backports.functools-lru-cache      1.6.4\n",
      "backports.shutil-get-terminal-size 1.0.0\n",
      "backports.tempfile                 1.0\n",
      "backports.weakref                  1.0.post1\n",
      "beautifulsoup4                     4.9.3\n",
      "bitarray                           2.1.0\n",
      "bkcharts                           0.2\n",
      "black                              19.10b0\n",
      "bleach                             3.3.0\n",
      "bokeh                              2.3.2\n",
      "boto                               2.49.0\n",
      "Bottleneck                         1.3.2\n",
      "brotlipy                           0.7.0\n",
      "certifi                            2020.12.5\n",
      "cffi                               1.14.5\n",
      "chardet                            4.0.0\n",
      "click                              7.1.2\n",
      "cloudpickle                        1.6.0\n",
      "clyent                             1.2.2\n",
      "colorama                           0.4.4\n",
      "conda                              4.10.1\n",
      "conda-build                        3.21.4\n",
      "conda-content-trust                0+unknown\n",
      "conda-package-handling             1.7.3\n",
      "conda-repo-cli                     1.0.4\n",
      "conda-token                        0.4.0\n",
      "conda-verify                       3.4.2\n",
      "contextlib2                        0.6.0.post1\n",
      "cryptography                       3.4.7\n",
      "cycler                             0.10.0\n",
      "Cython                             0.29.23\n",
      "cytoolz                            0.11.0\n",
      "dask                               2021.4.0\n",
      "decorator                          5.0.6\n",
      "defusedxml                         0.7.1\n",
      "diff-match-patch                   20200713\n",
      "distributed                        2021.4.1\n",
      "docutils                           0.17.1\n",
      "entrypoints                        0.3\n",
      "et-xmlfile                         1.0.1\n",
      "fastcache                          1.1.0\n",
      "filelock                           3.0.12\n",
      "flake8                             3.9.0\n",
      "Flask                              1.1.2\n",
      "fsspec                             0.9.0\n",
      "future                             0.18.2\n",
      "gevent                             21.1.2\n",
      "glob2                              0.7\n",
      "gmpy2                              2.0.8\n",
      "greenlet                           1.0.0\n",
      "h5py                               2.10.0\n",
      "HeapDict                           1.0.1\n",
      "html5lib                           1.1\n",
      "idna                               2.10\n",
      "imageio                            2.9.0\n",
      "imagesize                          1.2.0\n",
      "importlib-metadata                 3.10.0\n",
      "iniconfig                          1.1.1\n",
      "intervaltree                       3.1.0\n",
      "ipykernel                          5.3.4\n",
      "ipython                            7.22.0\n",
      "ipython-genutils                   0.2.0\n",
      "ipywidgets                         7.6.3\n",
      "isort                              5.8.0\n",
      "itsdangerous                       1.1.0\n",
      "jdcal                              1.4.1\n",
      "jedi                               0.17.2\n",
      "jeepney                            0.6.0\n",
      "Jinja2                             2.11.3\n",
      "joblib                             1.0.1\n",
      "json5                              0.9.5\n",
      "jsonschema                         3.2.0\n",
      "jupyter                            1.0.0\n",
      "jupyter-client                     6.1.12\n",
      "jupyter-console                    6.4.0\n",
      "jupyter-core                       4.7.1\n",
      "jupyter-packaging                  0.7.12\n",
      "jupyter-server                     1.4.1\n",
      "jupyterlab                         3.0.14\n",
      "jupyterlab-pygments                0.1.2\n",
      "jupyterlab-server                  2.4.0\n",
      "jupyterlab-widgets                 1.0.0\n",
      "keyring                            22.3.0\n",
      "kiwisolver                         1.3.1\n",
      "lazy-object-proxy                  1.6.0\n",
      "libarchive-c                       2.9\n",
      "llvmlite                           0.36.0\n",
      "locket                             0.2.1\n",
      "lxml                               4.6.3\n",
      "MarkupSafe                         1.1.1\n",
      "matplotlib                         3.3.4\n",
      "mccabe                             0.6.1\n",
      "mistune                            0.8.4\n",
      "mkl-fft                            1.3.0\n",
      "mkl-random                         1.2.1\n",
      "mkl-service                        2.3.0\n",
      "mock                               4.0.3\n",
      "more-itertools                     8.7.0\n",
      "mpmath                             1.2.1\n",
      "msgpack                            1.0.2\n",
      "multipledispatch                   0.6.0\n",
      "mypy-extensions                    0.4.3\n",
      "mysql-connector                    2.2.9\n",
      "mysql-connector-python             8.3.0\n",
      "navigator-updater                  0.2.1\n",
      "nbclassic                          0.2.6\n",
      "nbclient                           0.5.3\n",
      "nbconvert                          6.0.7\n",
      "nbformat                           5.1.3\n",
      "nest-asyncio                       1.5.1\n",
      "networkx                           2.5\n",
      "nltk                               3.6.1\n",
      "nose                               1.3.7\n",
      "notebook                           6.3.0\n",
      "numba                              0.53.1\n",
      "numexpr                            2.7.3\n",
      "numpy                              1.20.1\n",
      "numpydoc                           1.1.0\n",
      "olefile                            0.46\n",
      "openpyxl                           3.0.7\n",
      "packaging                          20.9\n",
      "pandas                             1.2.4\n",
      "pandocfilters                      1.4.3\n",
      "parso                              0.7.0\n",
      "partd                              1.2.0\n",
      "path                               15.1.2\n",
      "pathlib2                           2.3.5\n",
      "pathspec                           0.7.0\n",
      "patsy                              0.5.1\n",
      "pep8                               1.7.1\n",
      "pexpect                            4.8.0\n",
      "pickleshare                        0.7.5\n",
      "Pillow                             8.2.0\n",
      "pip                                21.0.1\n",
      "pkginfo                            1.7.0\n",
      "pluggy                             0.13.1\n",
      "ply                                3.11\n",
      "prometheus-client                  0.10.1\n",
      "prompt-toolkit                     3.0.17\n",
      "psutil                             5.8.0\n",
      "ptyprocess                         0.7.0\n",
      "py                                 1.10.0\n",
      "pycodestyle                        2.6.0\n",
      "pycosat                            0.6.3\n",
      "pycparser                          2.20\n",
      "pycurl                             7.43.0.6\n",
      "pydocstyle                         6.0.0\n",
      "pyerfa                             1.7.3\n",
      "pyflakes                           2.2.0\n",
      "Pygments                           2.8.1\n",
      "pylint                             2.7.4\n",
      "pyls-black                         0.4.6\n",
      "pyls-spyder                        0.3.2\n",
      "pyodbc                             4.0.0-unsupported\n",
      "pyOpenSSL                          20.0.1\n",
      "pyparsing                          2.4.7\n",
      "pyrsistent                         0.17.3\n",
      "PySocks                            1.7.1\n",
      "pytest                             6.2.3\n",
      "python-dateutil                    2.8.1\n",
      "python-jsonrpc-server              0.4.0\n",
      "python-language-server             0.36.2\n",
      "pytz                               2021.1\n",
      "PyWavelets                         1.1.1\n",
      "pyxdg                              0.27\n",
      "PyYAML                             5.4.1\n",
      "pyzmq                              20.0.0\n",
      "QDarkStyle                         2.8.1\n",
      "QtAwesome                          1.0.2\n",
      "qtconsole                          5.0.3\n",
      "QtPy                               1.9.0\n",
      "regex                              2021.4.4\n",
      "requests                           2.25.1\n",
      "rope                               0.18.0\n",
      "Rtree                              0.9.7\n",
      "ruamel-yaml-conda                  0.15.100\n",
      "scikit-image                       0.18.1\n",
      "scikit-learn                       0.24.1\n",
      "scipy                              1.6.2\n",
      "seaborn                            0.11.1\n",
      "SecretStorage                      3.3.1\n",
      "Send2Trash                         1.5.0\n",
      "setuptools                         52.0.0.post20210125\n",
      "simplegeneric                      0.8.1\n",
      "singledispatch                     0.0.0\n",
      "sip                                4.19.13\n",
      "six                                1.15.0\n",
      "sniffio                            1.2.0\n",
      "snowballstemmer                    2.1.0\n",
      "sortedcollections                  2.1.0\n",
      "sortedcontainers                   2.3.0\n",
      "soupsieve                          2.2.1\n",
      "Sphinx                             4.0.1\n",
      "sphinxcontrib-applehelp            1.0.2\n",
      "sphinxcontrib-devhelp              1.0.2\n",
      "sphinxcontrib-htmlhelp             1.0.3\n",
      "sphinxcontrib-jsmath               1.0.1\n",
      "sphinxcontrib-qthelp               1.0.3\n",
      "sphinxcontrib-serializinghtml      1.1.4\n",
      "sphinxcontrib-websupport           1.2.4\n",
      "spyder                             4.2.5\n",
      "spyder-kernels                     1.10.2\n",
      "SQLAlchemy                         1.4.15\n",
      "statsmodels                        0.12.2\n",
      "sympy                              1.8\n",
      "tables                             3.6.1\n",
      "tblib                              1.7.0\n",
      "terminado                          0.9.4\n",
      "testpath                           0.4.4\n",
      "textdistance                       4.2.1\n",
      "threadpoolctl                      2.1.0\n",
      "three-merge                        0.1.1\n",
      "tifffile                           2020.10.1\n",
      "toml                               0.10.2\n",
      "toolz                              0.11.1\n",
      "tornado                            6.1\n",
      "tqdm                               4.59.0\n",
      "traitlets                          5.0.5\n",
      "typed-ast                          1.4.2\n",
      "typing-extensions                  3.7.4.3\n",
      "ujson                              4.0.2\n",
      "unicodecsv                         0.14.1\n",
      "urllib3                            1.26.4\n",
      "watchdog                           1.0.2\n",
      "wcwidth                            0.2.5\n",
      "webencodings                       0.5.1\n",
      "Werkzeug                           1.0.1\n",
      "wheel                              0.36.2\n",
      "widgetsnbextension                 3.5.1\n",
      "wrapt                              1.12.1\n",
      "wurlitzer                          2.1.0\n",
      "xlrd                               2.0.1\n",
      "XlsxWriter                         1.3.8\n",
      "xlwt                               1.3.0\n",
      "xmltodict                          0.13.0\n",
      "yapf                               0.31.0\n",
      "zict                               2.0.0\n",
      "zipp                               3.4.1\n",
      "zope.event                         4.5.0\n",
      "zope.interface                     5.3.0\n"
     ]
    }
   ],
   "source": [
    "!pip list"
   ]
  },
  {
   "cell_type": "code",
   "execution_count": null,
   "id": "2deb8a9c-8432-4338-bb96-9ceaa14161c1",
   "metadata": {},
   "outputs": [],
   "source": []
  }
 ],
 "metadata": {
  "kernelspec": {
   "display_name": "Python 3",
   "language": "python",
   "name": "python3"
  },
  "language_info": {
   "codemirror_mode": {
    "name": "ipython",
    "version": 3
   },
   "file_extension": ".py",
   "mimetype": "text/x-python",
   "name": "python",
   "nbconvert_exporter": "python",
   "pygments_lexer": "ipython3",
   "version": "3.8.8"
  }
 },
 "nbformat": 4,
 "nbformat_minor": 5
}
