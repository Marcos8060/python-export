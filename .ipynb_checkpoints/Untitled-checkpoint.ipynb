{
 "cells": [
  {
   "cell_type": "code",
   "execution_count": 1,
   "id": "d68b260f-a3ec-4da2-94b6-ca832bbb8f78",
   "metadata": {},
   "outputs": [],
   "source": [
    "import pandas as pd"
   ]
  },
  {
   "cell_type": "code",
   "execution_count": 2,
   "id": "a176870f-0242-4e65-b7f6-bdd39cf0a579",
   "metadata": {},
   "outputs": [],
   "source": [
    "excel_file: str = \"export.xlsx\"\n",
    "report_df = pd.read_excel(excel_file,)"
   ]
  },
  {
   "cell_type": "code",
   "execution_count": 35,
   "id": "c4afbf68-d88e-447e-a7bb-cd2662684725",
   "metadata": {},
   "outputs": [
    {
     "name": "stdout",
     "output_type": "stream",
     "text": [
      "<class 'pandas.core.frame.DataFrame'>\n",
      "RangeIndex: 3232 entries, 0 to 3231\n",
      "Data columns (total 11 columns):\n",
      " #   Column                   Non-Null Count  Dtype \n",
      "---  ------                   --------------  ----- \n",
      " 0   First Name               3232 non-null   object\n",
      " 1   Last Name                3232 non-null   object\n",
      " 2   Username                 3232 non-null   object\n",
      " 3   Organisation             3232 non-null   object\n",
      " 4   Course Name              3232 non-null   object\n",
      " 5   Completed Date           2379 non-null   object\n",
      " 6   Due / Expiry Date        2300 non-null   object\n",
      " 7   CSA Status               3232 non-null   object\n",
      " 8   Certification ID number  3232 non-null   object\n",
      " 9   User ID                  3232 non-null   int64 \n",
      " 10  Is current?              3232 non-null   int64 \n",
      "dtypes: int64(2), object(9)\n",
      "memory usage: 277.9+ KB\n"
     ]
    }
   ],
   "source": [
    "report_df.info()"
   ]
  },
  {
   "cell_type": "code",
   "execution_count": 3,
   "id": "fa4149fe-e71c-491e-83df-1a10664112a2",
   "metadata": {},
   "outputs": [
    {
     "data": {
      "text/html": [
       "<div>\n",
       "<style scoped>\n",
       "    .dataframe tbody tr th:only-of-type {\n",
       "        vertical-align: middle;\n",
       "    }\n",
       "\n",
       "    .dataframe tbody tr th {\n",
       "        vertical-align: top;\n",
       "    }\n",
       "\n",
       "    .dataframe thead th {\n",
       "        text-align: right;\n",
       "    }\n",
       "</style>\n",
       "<table border=\"1\" class=\"dataframe\">\n",
       "  <thead>\n",
       "    <tr style=\"text-align: right;\">\n",
       "      <th></th>\n",
       "      <th>First Name</th>\n",
       "      <th>Last Name</th>\n",
       "      <th>Username</th>\n",
       "      <th>Organisation</th>\n",
       "      <th>Course Name</th>\n",
       "      <th>Completed Date</th>\n",
       "      <th>Due / Expiry Date</th>\n",
       "      <th>CSA Status</th>\n",
       "      <th>Certification ID number</th>\n",
       "      <th>User ID</th>\n",
       "      <th>Is current?</th>\n",
       "    </tr>\n",
       "  </thead>\n",
       "  <tbody>\n",
       "    <tr>\n",
       "      <th>0</th>\n",
       "      <td>Minhazul</td>\n",
       "      <td>Abedin</td>\n",
       "      <td>mdminhazulabedin@hotmail.com</td>\n",
       "      <td>Sinomax International Ltd Supported Living</td>\n",
       "      <td>Fire Safety</td>\n",
       "      <td>13/12/2023</td>\n",
       "      <td>13/12/2025</td>\n",
       "      <td>Completed</td>\n",
       "      <td>Fire Safety (24-month)</td>\n",
       "      <td>227869</td>\n",
       "      <td>1</td>\n",
       "    </tr>\n",
       "    <tr>\n",
       "      <th>1</th>\n",
       "      <td>Minhazul</td>\n",
       "      <td>Abedin</td>\n",
       "      <td>mdminhazulabedin@hotmail.com</td>\n",
       "      <td>Sinomax International Ltd Supported Living</td>\n",
       "      <td>First Aid</td>\n",
       "      <td>23/12/2023</td>\n",
       "      <td>23/12/2025</td>\n",
       "      <td>Completed</td>\n",
       "      <td>First Aid (24-month)</td>\n",
       "      <td>227869</td>\n",
       "      <td>1</td>\n",
       "    </tr>\n",
       "    <tr>\n",
       "      <th>2</th>\n",
       "      <td>Minhazul</td>\n",
       "      <td>Abedin</td>\n",
       "      <td>mdminhazulabedin@hotmail.com</td>\n",
       "      <td>Sinomax International Ltd Supported Living</td>\n",
       "      <td>Health and Safety</td>\n",
       "      <td>09/01/2024</td>\n",
       "      <td>09/01/2026</td>\n",
       "      <td>Completed</td>\n",
       "      <td>Health and Safety (24-month)</td>\n",
       "      <td>227869</td>\n",
       "      <td>1</td>\n",
       "    </tr>\n",
       "    <tr>\n",
       "      <th>3</th>\n",
       "      <td>Minhazul</td>\n",
       "      <td>Abedin</td>\n",
       "      <td>mdminhazulabedin@hotmail.com</td>\n",
       "      <td>Sinomax International Ltd Supported Living</td>\n",
       "      <td>Infection Control</td>\n",
       "      <td>09/01/2024</td>\n",
       "      <td>09/01/2026</td>\n",
       "      <td>Completed</td>\n",
       "      <td>Infection Control (24-month)</td>\n",
       "      <td>227869</td>\n",
       "      <td>1</td>\n",
       "    </tr>\n",
       "    <tr>\n",
       "      <th>4</th>\n",
       "      <td>Minhazul</td>\n",
       "      <td>Abedin</td>\n",
       "      <td>mdminhazulabedin@hotmail.com</td>\n",
       "      <td>Sinomax International Ltd Supported Living</td>\n",
       "      <td>Medication Practice</td>\n",
       "      <td>10/01/2024</td>\n",
       "      <td>10/01/2026</td>\n",
       "      <td>Completed</td>\n",
       "      <td>Medication Practice (24-month)</td>\n",
       "      <td>227869</td>\n",
       "      <td>1</td>\n",
       "    </tr>\n",
       "  </tbody>\n",
       "</table>\n",
       "</div>"
      ],
      "text/plain": [
       "  First Name Last Name                      Username  \\\n",
       "0   Minhazul    Abedin  mdminhazulabedin@hotmail.com   \n",
       "1   Minhazul    Abedin  mdminhazulabedin@hotmail.com   \n",
       "2   Minhazul    Abedin  mdminhazulabedin@hotmail.com   \n",
       "3   Minhazul    Abedin  mdminhazulabedin@hotmail.com   \n",
       "4   Minhazul    Abedin  mdminhazulabedin@hotmail.com   \n",
       "\n",
       "                                 Organisation          Course Name  \\\n",
       "0  Sinomax International Ltd Supported Living          Fire Safety   \n",
       "1  Sinomax International Ltd Supported Living            First Aid   \n",
       "2  Sinomax International Ltd Supported Living    Health and Safety   \n",
       "3  Sinomax International Ltd Supported Living    Infection Control   \n",
       "4  Sinomax International Ltd Supported Living  Medication Practice   \n",
       "\n",
       "  Completed Date Due / Expiry Date CSA Status         Certification ID number  \\\n",
       "0     13/12/2023        13/12/2025  Completed          Fire Safety (24-month)   \n",
       "1     23/12/2023        23/12/2025  Completed            First Aid (24-month)   \n",
       "2     09/01/2024        09/01/2026  Completed    Health and Safety (24-month)   \n",
       "3     09/01/2024        09/01/2026  Completed    Infection Control (24-month)   \n",
       "4     10/01/2024        10/01/2026  Completed  Medication Practice (24-month)   \n",
       "\n",
       "   User ID  Is current?  \n",
       "0   227869            1  \n",
       "1   227869            1  \n",
       "2   227869            1  \n",
       "3   227869            1  \n",
       "4   227869            1  "
      ]
     },
     "execution_count": 3,
     "metadata": {},
     "output_type": "execute_result"
    }
   ],
   "source": [
    "report_df.head()"
   ]
  },
  {
   "cell_type": "code",
   "execution_count": 5,
   "id": "12f7c4b5-ce5b-4e7f-ba89-2342e1f62f54",
   "metadata": {},
   "outputs": [
    {
     "data": {
      "text/plain": [
       "dict_keys(['First Name', 'Last Name', 'Username', 'Organisation', 'Course Name', 'Completed Date', 'Due / Expiry Date', 'CSA Status', 'Certification ID number', 'User ID', 'Is current?'])"
      ]
     },
     "execution_count": 5,
     "metadata": {},
     "output_type": "execute_result"
    }
   ],
   "source": [
    "report_list[0].keys()"
   ]
  },
  {
   "cell_type": "code",
   "execution_count": 6,
   "id": "ce16b89d-7ce8-400b-a891-865509abca6b",
   "metadata": {},
   "outputs": [],
   "source": [
    "# connect to my sql database"
   ]
  },
  {
   "cell_type": "code",
   "execution_count": 39,
   "id": "3b6efdda-3402-4341-bafa-6a93b520058b",
   "metadata": {},
   "outputs": [],
   "source": [
    "from mysql import connector"
   ]
  },
  {
   "cell_type": "code",
   "execution_count": 42,
   "id": "413bfc95-5af6-4489-ad6e-f9b4ca936e03",
   "metadata": {},
   "outputs": [],
   "source": [
    "# MySQL database connection parameters\n",
    "db_user = 'root'\n",
    "db_password = 'Gazelle27#'\n",
    "db_host = 'localhost'\n",
    "db_name = 'careskills'"
   ]
  },
  {
   "cell_type": "code",
   "execution_count": 43,
   "id": "8c3fee5b-6056-435d-a7e6-530460711c81",
   "metadata": {},
   "outputs": [],
   "source": [
    "# Create a SQLAlchemy engine\n",
    "connection = connector.connect(\n",
    "    user=db_user,\n",
    "    password=db_password,\n",
    "    host=db_host,\n",
    "    database=db_name,\n",
    "    auth_plugin=\"mysql_native_password\",\n",
    ")"
   ]
  },
  {
   "cell_type": "code",
   "execution_count": 44,
   "id": "9393ea20-92a6-4aba-9d3c-e5b4a0df00e8",
   "metadata": {},
   "outputs": [],
   "source": [
    "table_name = \"skill_reports\""
   ]
  },
  {
   "cell_type": "code",
   "execution_count": 45,
   "id": "b4f01a63-23c1-42c2-8bfb-d9d6bb5e61b9",
   "metadata": {},
   "outputs": [
    {
     "name": "stdout",
     "output_type": "stream",
     "text": [
      "first_name\n",
      "last_name\n",
      "username\n",
      "organisation\n",
      "course_name\n",
      "completed_date\n",
      "due__expiry_date\n",
      "csa_status\n",
      "certification_id_number\n",
      "user_id\n",
      "is_current\n"
     ]
    }
   ],
   "source": [
    "cols = []\n",
    "for col in report_df.columns:\n",
    "    #     remove charcters that arent alphabets\n",
    "    alpha_col = re.sub(r'[^a-zA-Z\\s]', '', col)\n",
    "    new_col = alpha_col.lower().replace(\" \", \"_\")\n",
    "    cols.append(new_col)\n",
    "    print(new_col)"
   ]
  },
  {
   "cell_type": "code",
   "execution_count": 46,
   "id": "c5c03912-ea06-429d-a0bf-4054bccfb7ce",
   "metadata": {},
   "outputs": [
    {
     "data": {
      "text/plain": [
       "['first_name',\n",
       " 'last_name',\n",
       " 'username',\n",
       " 'organisation',\n",
       " 'course_name',\n",
       " 'completed_date',\n",
       " 'due__expiry_date',\n",
       " 'csa_status',\n",
       " 'certification_id_number',\n",
       " 'user_id',\n",
       " 'is_current']"
      ]
     },
     "execution_count": 46,
     "metadata": {},
     "output_type": "execute_result"
    }
   ],
   "source": [
    "cols"
   ]
  },
  {
   "cell_type": "code",
   "execution_count": 47,
   "id": "747dcdab-248e-45d9-8823-be2c109ca084",
   "metadata": {},
   "outputs": [],
   "source": [
    "column_definitions = ', '.join([f'{col} TEXT' for col in cols])"
   ]
  },
  {
   "cell_type": "code",
   "execution_count": 48,
   "id": "cb26017e-a6ba-4763-a199-bc971dcb12ed",
   "metadata": {},
   "outputs": [
    {
     "data": {
      "text/plain": [
       "'first_name TEXT, last_name TEXT, username TEXT, organisation TEXT, course_name TEXT, completed_date TEXT, due__expiry_date TEXT, csa_status TEXT, certification_id_number TEXT, user_id TEXT, is_current TEXT'"
      ]
     },
     "execution_count": 48,
     "metadata": {},
     "output_type": "execute_result"
    }
   ],
   "source": [
    "column_definitions"
   ]
  },
  {
   "cell_type": "code",
   "execution_count": 79,
   "id": "1f9aa0cb-750b-4f59-b4b0-62c873dd6402",
   "metadata": {},
   "outputs": [
    {
     "name": "stdout",
     "output_type": "stream",
     "text": [
      "CREATE TABLE skill_reports(first_name VARCHAR(255),last_name VARCHAR(255),username VARCHAR(255),organisation TEXT,course_name TEXT,completed_date TEXT,due_expiry_date TEXT,csa_status TEXT,certification_id_number TEXT,user_id INTEGER,is_current INTEGER);\n"
     ]
    }
   ],
   "source": [
    "created_table_cmd = (\n",
    "\"CREATE TABLE {table_name}(\"\n",
    "    \"first_name VARCHAR(255),\"\n",
    "    \"last_name VARCHAR(255),\"\n",
    "    \"username VARCHAR(255),\"\n",
    "    \"organisation TEXT,\"\n",
    "    \"course_name TEXT,\"\n",
    "    \"completed_date TEXT,\"\n",
    "    \"due_expiry_date TEXT,\"\n",
    "    \"csa_status TEXT,\"\n",
    "    \"certification_id_number TEXT,\"\n",
    "    \"user_id INTEGER,\"\n",
    "    \"is_current INTEGER\"\n",
    "    \");\"\n",
    ").format(table_name=table_name)\n",
    "drop_table_cmd = f'''\n",
    "DROP TABLE IF EXISTS {table_name};\n",
    "'''\n",
    "print(created_table_cmd)"
   ]
  },
  {
   "cell_type": "code",
   "execution_count": 54,
   "id": "430572b4-bde4-4cf5-bf42-1f99e08fbd1d",
   "metadata": {},
   "outputs": [],
   "source": [
    "cursor = connection.cursor()"
   ]
  },
  {
   "cell_type": "code",
   "execution_count": 78,
   "id": "8357b030-f243-4225-8b4b-0e7456e7f392",
   "metadata": {},
   "outputs": [],
   "source": [
    "cursor.execute(drop_table_cmd)"
   ]
  },
  {
   "cell_type": "code",
   "execution_count": 80,
   "id": "27b7446c-b4f1-466a-a8bb-7b520101a6eb",
   "metadata": {},
   "outputs": [],
   "source": [
    "cursor.execute(created_table_cmd)"
   ]
  },
  {
   "cell_type": "code",
   "execution_count": null,
   "id": "a8212df2-fced-44c6-b820-f4cb8a855cc3",
   "metadata": {},
   "outputs": [],
   "source": []
  },
  {
   "cell_type": "code",
   "execution_count": 93,
   "id": "4fa0317d-f71d-475d-9afd-5629eba8ebd4",
   "metadata": {},
   "outputs": [
    {
     "data": {
      "text/plain": [
       "First Name                 False\n",
       "Last Name                  False\n",
       "Username                   False\n",
       "Organisation               False\n",
       "Course Name                False\n",
       "Completed Date              True\n",
       "Due / Expiry Date           True\n",
       "CSA Status                 False\n",
       "Certification ID number    False\n",
       "User ID                    False\n",
       "Is current?                False\n",
       "dtype: bool"
      ]
     },
     "execution_count": 93,
     "metadata": {},
     "output_type": "execute_result"
    }
   ],
   "source": [
    "report_df.isnull().any()"
   ]
  },
  {
   "cell_type": "code",
   "execution_count": 95,
   "id": "53cc2717-4e19-4dcf-9205-a47640ce2d43",
   "metadata": {},
   "outputs": [
    {
     "data": {
      "text/plain": [
       "Index(['Completed Date', 'Due / Expiry Date'], dtype='object')"
      ]
     },
     "execution_count": 95,
     "metadata": {},
     "output_type": "execute_result"
    }
   ],
   "source": [
    "report_df.columns[report_df.isnull().any()]"
   ]
  },
  {
   "cell_type": "code",
   "execution_count": 99,
   "id": "9bf93fe1-2ced-4f7c-8bba-6aae9c071f46",
   "metadata": {},
   "outputs": [
    {
     "data": {
      "text/html": [
       "<div>\n",
       "<style scoped>\n",
       "    .dataframe tbody tr th:only-of-type {\n",
       "        vertical-align: middle;\n",
       "    }\n",
       "\n",
       "    .dataframe tbody tr th {\n",
       "        vertical-align: top;\n",
       "    }\n",
       "\n",
       "    .dataframe thead th {\n",
       "        text-align: right;\n",
       "    }\n",
       "</style>\n",
       "<table border=\"1\" class=\"dataframe\">\n",
       "  <thead>\n",
       "    <tr style=\"text-align: right;\">\n",
       "      <th></th>\n",
       "      <th>First Name</th>\n",
       "      <th>Last Name</th>\n",
       "      <th>Username</th>\n",
       "      <th>Organisation</th>\n",
       "      <th>Course Name</th>\n",
       "      <th>Completed Date</th>\n",
       "      <th>Due / Expiry Date</th>\n",
       "      <th>CSA Status</th>\n",
       "      <th>Certification ID number</th>\n",
       "      <th>User ID</th>\n",
       "      <th>Is current?</th>\n",
       "    </tr>\n",
       "  </thead>\n",
       "  <tbody>\n",
       "    <tr>\n",
       "      <th>60</th>\n",
       "      <td>Edith</td>\n",
       "      <td>Aduhene</td>\n",
       "      <td>akosuakt@gmail.com</td>\n",
       "      <td>Sinomax International Ltd Supported Living</td>\n",
       "      <td>Fire Safety</td>\n",
       "      <td>NaN</td>\n",
       "      <td>NaN</td>\n",
       "      <td>In Progress</td>\n",
       "      <td>Fire Safety (12-month)</td>\n",
       "      <td>213697</td>\n",
       "      <td>1</td>\n",
       "    </tr>\n",
       "  </tbody>\n",
       "</table>\n",
       "</div>"
      ],
      "text/plain": [
       "   First Name Last Name            Username  \\\n",
       "60      Edith   Aduhene  akosuakt@gmail.com   \n",
       "\n",
       "                                  Organisation  Course Name Completed Date  \\\n",
       "60  Sinomax International Ltd Supported Living  Fire Safety            NaN   \n",
       "\n",
       "   Due / Expiry Date   CSA Status Certification ID number  User ID  \\\n",
       "60               NaN  In Progress  Fire Safety (12-month)   213697   \n",
       "\n",
       "    Is current?  \n",
       "60            1  "
      ]
     },
     "execution_count": 99,
     "metadata": {},
     "output_type": "execute_result"
    }
   ],
   "source": [
    "report_df[report_df[\"Completed Date\"].isna()].head(1)"
   ]
  },
  {
   "cell_type": "code",
   "execution_count": 101,
   "id": "d5fd617d-0887-4e3b-9328-5aa77f597942",
   "metadata": {},
   "outputs": [],
   "source": [
    "report_df_cp = report_df.replace({pd.NA: None})"
   ]
  },
  {
   "cell_type": "code",
   "execution_count": 102,
   "id": "0bd20abc-ab76-43e2-a4e9-ed97de190d58",
   "metadata": {},
   "outputs": [
    {
     "data": {
      "text/html": [
       "<div>\n",
       "<style scoped>\n",
       "    .dataframe tbody tr th:only-of-type {\n",
       "        vertical-align: middle;\n",
       "    }\n",
       "\n",
       "    .dataframe tbody tr th {\n",
       "        vertical-align: top;\n",
       "    }\n",
       "\n",
       "    .dataframe thead th {\n",
       "        text-align: right;\n",
       "    }\n",
       "</style>\n",
       "<table border=\"1\" class=\"dataframe\">\n",
       "  <thead>\n",
       "    <tr style=\"text-align: right;\">\n",
       "      <th></th>\n",
       "      <th>First Name</th>\n",
       "      <th>Last Name</th>\n",
       "      <th>Username</th>\n",
       "      <th>Organisation</th>\n",
       "      <th>Course Name</th>\n",
       "      <th>Completed Date</th>\n",
       "      <th>Due / Expiry Date</th>\n",
       "      <th>CSA Status</th>\n",
       "      <th>Certification ID number</th>\n",
       "      <th>User ID</th>\n",
       "      <th>Is current?</th>\n",
       "    </tr>\n",
       "  </thead>\n",
       "  <tbody>\n",
       "    <tr>\n",
       "      <th>60</th>\n",
       "      <td>Edith</td>\n",
       "      <td>Aduhene</td>\n",
       "      <td>akosuakt@gmail.com</td>\n",
       "      <td>Sinomax International Ltd Supported Living</td>\n",
       "      <td>Fire Safety</td>\n",
       "      <td>None</td>\n",
       "      <td>None</td>\n",
       "      <td>In Progress</td>\n",
       "      <td>Fire Safety (12-month)</td>\n",
       "      <td>213697</td>\n",
       "      <td>1</td>\n",
       "    </tr>\n",
       "  </tbody>\n",
       "</table>\n",
       "</div>"
      ],
      "text/plain": [
       "   First Name Last Name            Username  \\\n",
       "60      Edith   Aduhene  akosuakt@gmail.com   \n",
       "\n",
       "                                  Organisation  Course Name Completed Date  \\\n",
       "60  Sinomax International Ltd Supported Living  Fire Safety           None   \n",
       "\n",
       "   Due / Expiry Date   CSA Status Certification ID number  User ID  \\\n",
       "60              None  In Progress  Fire Safety (12-month)   213697   \n",
       "\n",
       "    Is current?  \n",
       "60            1  "
      ]
     },
     "execution_count": 102,
     "metadata": {},
     "output_type": "execute_result"
    }
   ],
   "source": [
    "report_df_cp[report_df_cp[\"Completed Date\"].isna()].head(1)"
   ]
  },
  {
   "cell_type": "code",
   "execution_count": 110,
   "id": "a96a442f-30b9-4700-9b28-ca00a8297977",
   "metadata": {},
   "outputs": [
    {
     "data": {
      "text/plain": [
       "(3232, 11)"
      ]
     },
     "execution_count": 110,
     "metadata": {},
     "output_type": "execute_result"
    }
   ],
   "source": [
    "report_df_cp.shape"
   ]
  },
  {
   "cell_type": "code",
   "execution_count": null,
   "id": "9f264fee-1328-44dc-8aee-f3510701b35e",
   "metadata": {},
   "outputs": [],
   "source": []
  },
  {
   "cell_type": "code",
   "execution_count": null,
   "id": "448f2da3-8e80-4078-8fbd-f0e4561ac231",
   "metadata": {},
   "outputs": [],
   "source": []
  },
  {
   "cell_type": "code",
   "execution_count": 103,
   "id": "e997b02f-4a3b-44dd-867b-9e172355b929",
   "metadata": {},
   "outputs": [
    {
     "name": "stdout",
     "output_type": "stream",
     "text": [
      "\n",
      "INSERT INTO skill_reports (first_name, last_name, username, organisation, course_name, completed_date, due_expiry_date, csa_status, certification_id_number, user_id, is_current) VALUES (%s, %s, %s, %s, %s, %s, %s, %s, %s, %s, %s)\n",
      "\n"
     ]
    }
   ],
   "source": [
    "insert_data_cmd = f'''\n",
    "INSERT INTO {table_name} (first_name, last_name, username, organisation, course_name, completed_date, due_expiry_date, csa_status, certification_id_number, user_id, is_current) VALUES (%s, %s, %s, %s, %s, %s, %s, %s, %s, %s, %s)\n",
    "'''\n",
    "print(insert_data_cmd)"
   ]
  },
  {
   "cell_type": "code",
   "execution_count": 104,
   "id": "57baea68-b60c-4e79-beaa-167d160b73ed",
   "metadata": {},
   "outputs": [],
   "source": [
    "import time"
   ]
  },
  {
   "cell_type": "code",
   "execution_count": 111,
   "id": "052e5796-5d93-4de4-b1b4-da222ce53cc3",
   "metadata": {},
   "outputs": [
    {
     "name": "stdout",
     "output_type": "stream",
     "text": [
      "0\n",
      "1\n",
      "2\n",
      "3\n",
      "4\n",
      "5\n",
      "6\n",
      "7\n",
      "8\n",
      "9\n",
      "10\n",
      "11\n",
      "12\n",
      "13\n",
      "14\n",
      "15\n",
      "16\n",
      "17\n",
      "18\n",
      "19\n",
      "20\n",
      "21\n",
      "22\n",
      "23\n",
      "24\n",
      "25\n",
      "26\n",
      "27\n",
      "28\n",
      "29\n",
      "30\n",
      "31\n",
      "32\n",
      "33\n",
      "34\n",
      "35\n",
      "36\n",
      "37\n",
      "38\n",
      "39\n",
      "40\n",
      "41\n",
      "42\n",
      "43\n",
      "44\n",
      "45\n",
      "46\n",
      "47\n",
      "48\n",
      "49\n",
      "50\n",
      "51\n",
      "52\n",
      "53\n",
      "54\n",
      "55\n",
      "56\n",
      "57\n",
      "58\n",
      "59\n",
      "60\n",
      "61\n",
      "62\n",
      "63\n",
      "64\n",
      "65\n",
      "66\n",
      "67\n",
      "68\n",
      "69\n",
      "70\n",
      "71\n",
      "72\n",
      "73\n",
      "74\n",
      "75\n",
      "76\n",
      "77\n",
      "78\n",
      "79\n",
      "80\n",
      "81\n",
      "82\n",
      "83\n",
      "84\n",
      "85\n",
      "86\n",
      "87\n",
      "88\n",
      "89\n",
      "90\n",
      "91\n",
      "92\n",
      "93\n",
      "94\n",
      "95\n",
      "96\n",
      "97\n",
      "98\n",
      "99\n",
      "100\n",
      "101\n",
      "102\n",
      "103\n",
      "104\n",
      "105\n",
      "106\n",
      "107\n",
      "108\n",
      "109\n",
      "110\n",
      "111\n",
      "112\n",
      "113\n",
      "114\n",
      "115\n",
      "116\n",
      "117\n",
      "118\n",
      "119\n",
      "120\n",
      "121\n",
      "122\n",
      "123\n",
      "124\n",
      "125\n",
      "126\n",
      "127\n",
      "128\n",
      "129\n",
      "130\n",
      "131\n",
      "132\n",
      "133\n",
      "134\n",
      "135\n",
      "136\n",
      "137\n",
      "138\n",
      "139\n",
      "140\n",
      "141\n",
      "142\n",
      "143\n",
      "144\n",
      "145\n",
      "146\n",
      "147\n",
      "148\n",
      "149\n",
      "150\n",
      "151\n",
      "152\n",
      "153\n",
      "154\n",
      "155\n",
      "156\n",
      "157\n",
      "158\n",
      "159\n",
      "160\n",
      "161\n",
      "162\n",
      "163\n",
      "164\n",
      "165\n",
      "166\n",
      "167\n",
      "168\n",
      "169\n",
      "170\n",
      "171\n",
      "172\n",
      "173\n",
      "174\n",
      "175\n",
      "176\n",
      "177\n",
      "178\n",
      "179\n",
      "180\n",
      "181\n",
      "182\n",
      "183\n",
      "184\n",
      "185\n",
      "186\n",
      "187\n",
      "188\n",
      "189\n",
      "190\n",
      "191\n",
      "192\n",
      "193\n",
      "194\n",
      "195\n",
      "196\n",
      "197\n",
      "198\n",
      "199\n",
      "200\n",
      "201\n",
      "202\n",
      "203\n",
      "204\n",
      "205\n",
      "206\n",
      "207\n",
      "208\n",
      "209\n",
      "210\n",
      "211\n",
      "212\n",
      "213\n",
      "214\n",
      "215\n",
      "216\n",
      "217\n",
      "218\n",
      "219\n",
      "220\n",
      "221\n",
      "222\n",
      "223\n",
      "224\n",
      "225\n",
      "226\n",
      "227\n",
      "228\n",
      "229\n",
      "230\n",
      "231\n",
      "232\n",
      "233\n",
      "234\n",
      "235\n",
      "236\n",
      "237\n",
      "238\n",
      "239\n",
      "240\n",
      "241\n",
      "242\n",
      "243\n",
      "244\n",
      "245\n",
      "246\n",
      "247\n",
      "248\n",
      "249\n",
      "250\n",
      "251\n",
      "252\n",
      "253\n",
      "254\n",
      "255\n",
      "256\n",
      "257\n",
      "258\n",
      "259\n",
      "260\n",
      "261\n",
      "262\n",
      "263\n",
      "264\n",
      "265\n",
      "266\n",
      "267\n",
      "268\n",
      "269\n",
      "270\n",
      "271\n",
      "272\n",
      "273\n",
      "274\n",
      "275\n",
      "276\n",
      "277\n",
      "278\n",
      "279\n",
      "280\n",
      "281\n",
      "282\n",
      "283\n",
      "284\n",
      "285\n",
      "286\n",
      "287\n",
      "288\n",
      "289\n",
      "290\n",
      "291\n",
      "292\n",
      "293\n",
      "294\n",
      "295\n",
      "296\n",
      "297\n",
      "298\n",
      "299\n",
      "300\n",
      "301\n",
      "302\n",
      "303\n",
      "304\n",
      "305\n",
      "306\n",
      "307\n",
      "308\n",
      "309\n",
      "310\n",
      "311\n",
      "312\n",
      "313\n",
      "314\n",
      "315\n",
      "316\n",
      "317\n",
      "318\n",
      "319\n",
      "320\n",
      "321\n",
      "322\n",
      "323\n",
      "324\n",
      "325\n",
      "326\n",
      "327\n",
      "328\n",
      "329\n",
      "330\n",
      "331\n",
      "332\n",
      "333\n",
      "334\n",
      "335\n",
      "336\n",
      "337\n",
      "338\n",
      "339\n",
      "340\n",
      "341\n",
      "342\n",
      "343\n",
      "344\n",
      "345\n",
      "346\n",
      "347\n",
      "348\n",
      "349\n",
      "350\n",
      "351\n",
      "352\n",
      "353\n",
      "354\n",
      "355\n",
      "356\n",
      "357\n",
      "358\n",
      "359\n",
      "360\n",
      "361\n",
      "362\n",
      "363\n",
      "364\n",
      "365\n",
      "366\n",
      "367\n",
      "368\n",
      "369\n",
      "370\n",
      "371\n",
      "372\n",
      "373\n",
      "374\n",
      "375\n",
      "376\n",
      "377\n",
      "378\n",
      "379\n",
      "380\n",
      "381\n",
      "382\n",
      "383\n",
      "384\n",
      "385\n",
      "386\n",
      "387\n",
      "388\n",
      "389\n",
      "390\n",
      "391\n",
      "392\n",
      "393\n",
      "394\n",
      "395\n",
      "396\n",
      "397\n",
      "398\n",
      "399\n",
      "400\n",
      "401\n",
      "402\n",
      "403\n",
      "404\n",
      "405\n",
      "406\n",
      "407\n",
      "408\n",
      "409\n",
      "410\n",
      "411\n",
      "412\n",
      "413\n",
      "414\n",
      "415\n",
      "416\n",
      "417\n",
      "418\n",
      "419\n",
      "420\n",
      "421\n",
      "422\n",
      "423\n",
      "424\n",
      "425\n",
      "426\n",
      "427\n",
      "428\n",
      "429\n",
      "430\n",
      "431\n",
      "432\n",
      "433\n",
      "434\n",
      "435\n"
     ]
    },
    {
     "ename": "KeyboardInterrupt",
     "evalue": "",
     "output_type": "error",
     "traceback": [
      "\u001b[0;31m---------------------------------------------------------------------------\u001b[0m",
      "\u001b[0;31mKeyboardInterrupt\u001b[0m                         Traceback (most recent call last)",
      "\u001b[0;32m<ipython-input-111-0f1ddeffbd81>\u001b[0m in \u001b[0;36m<module>\u001b[0;34m\u001b[0m\n\u001b[1;32m      1\u001b[0m \u001b[0;32mfor\u001b[0m \u001b[0mindex\u001b[0m\u001b[0;34m,\u001b[0m \u001b[0mrow\u001b[0m \u001b[0;32min\u001b[0m \u001b[0mreport_df_cp\u001b[0m\u001b[0;34m.\u001b[0m\u001b[0miterrows\u001b[0m\u001b[0;34m(\u001b[0m\u001b[0;34m)\u001b[0m\u001b[0;34m:\u001b[0m\u001b[0;34m\u001b[0m\u001b[0;34m\u001b[0m\u001b[0m\n\u001b[1;32m      2\u001b[0m     \u001b[0;32mif\u001b[0m \u001b[0mindex\u001b[0m\u001b[0;34m%\u001b[0m\u001b[0;36m2\u001b[0m \u001b[0;34m==\u001b[0m \u001b[0;36m0\u001b[0m\u001b[0;34m:\u001b[0m\u001b[0;34m\u001b[0m\u001b[0;34m\u001b[0m\u001b[0m\n\u001b[0;32m----> 3\u001b[0;31m         \u001b[0mtime\u001b[0m\u001b[0;34m.\u001b[0m\u001b[0msleep\u001b[0m\u001b[0;34m(\u001b[0m\u001b[0;36m2\u001b[0m\u001b[0;34m)\u001b[0m\u001b[0;34m\u001b[0m\u001b[0;34m\u001b[0m\u001b[0m\n\u001b[0m\u001b[1;32m      4\u001b[0m \u001b[0;34m\u001b[0m\u001b[0m\n\u001b[1;32m      5\u001b[0m     \u001b[0mrow_dict\u001b[0m \u001b[0;34m=\u001b[0m \u001b[0mrow\u001b[0m\u001b[0;34m.\u001b[0m\u001b[0mto_dict\u001b[0m\u001b[0;34m(\u001b[0m\u001b[0;34m)\u001b[0m\u001b[0;34m\u001b[0m\u001b[0;34m\u001b[0m\u001b[0m\n",
      "\u001b[0;31mKeyboardInterrupt\u001b[0m: "
     ]
    }
   ],
   "source": [
    "\n",
    "# for index, row in report_df_cp.iterrows():\n",
    "#     if index%2 == 0:\n",
    "#         time.sleep(2)\n",
    "    \n",
    "#     row_dict = row.to_dict()\n",
    "#     row_values = [];\n",
    "#     for col in report_df.columns:\n",
    "#         row_values.append(row_dict[col])\n",
    "    \n",
    "#     cursor.execute(insert_data_cmd, tuple(row_values))\n",
    "#     print(index)"
   ]
  },
  {
   "cell_type": "code",
   "execution_count": 74,
   "id": "74ed2a6d-b983-4509-9c07-7ef4003097ae",
   "metadata": {},
   "outputs": [
    {
     "data": {
      "text/plain": [
       "11"
      ]
     },
     "execution_count": 74,
     "metadata": {},
     "output_type": "execute_result"
    }
   ],
   "source": [
    "len(report_df.columns)"
   ]
  },
  {
   "cell_type": "code",
   "execution_count": 84,
   "id": "f56bcfda-9485-4587-84bb-0961a107d944",
   "metadata": {},
   "outputs": [],
   "source": [
    "select_cmd = f'''\n",
    "SELECT * FROM {table_name};\n",
    "'''"
   ]
  },
  {
   "cell_type": "code",
   "execution_count": 1,
   "id": "0fa2878a-46bf-442d-95ea-52b726aed2b2",
   "metadata": {},
   "outputs": [
    {
     "ename": "NameError",
     "evalue": "name 'cursor' is not defined",
     "output_type": "error",
     "traceback": [
      "\u001b[0;31m---------------------------------------------------------------------------\u001b[0m",
      "\u001b[0;31mNameError\u001b[0m                                 Traceback (most recent call last)",
      "\u001b[0;32m<ipython-input-1-4d4129880fb4>\u001b[0m in \u001b[0;36m<module>\u001b[0;34m\u001b[0m\n\u001b[0;32m----> 1\u001b[0;31m \u001b[0mcursor\u001b[0m\u001b[0;34m.\u001b[0m\u001b[0mexecute\u001b[0m\u001b[0;34m(\u001b[0m\u001b[0mselect_cmd\u001b[0m\u001b[0;34m)\u001b[0m\u001b[0;34m\u001b[0m\u001b[0;34m\u001b[0m\u001b[0m\n\u001b[0m\u001b[1;32m      2\u001b[0m \u001b[0;34m\u001b[0m\u001b[0m\n\u001b[1;32m      3\u001b[0m \u001b[0;31m# Fetch all the values\u001b[0m\u001b[0;34m\u001b[0m\u001b[0;34m\u001b[0m\u001b[0;34m\u001b[0m\u001b[0m\n\u001b[1;32m      4\u001b[0m \u001b[0mcolumn_values\u001b[0m \u001b[0;34m=\u001b[0m \u001b[0mcursor\u001b[0m\u001b[0;34m.\u001b[0m\u001b[0mfetchall\u001b[0m\u001b[0;34m(\u001b[0m\u001b[0;34m)\u001b[0m\u001b[0;34m\u001b[0m\u001b[0;34m\u001b[0m\u001b[0m\n\u001b[1;32m      5\u001b[0m \u001b[0mlen\u001b[0m\u001b[0;34m(\u001b[0m\u001b[0mcolumn_values\u001b[0m\u001b[0;34m)\u001b[0m\u001b[0;34m\u001b[0m\u001b[0;34m\u001b[0m\u001b[0m\n",
      "\u001b[0;31mNameError\u001b[0m: name 'cursor' is not defined"
     ]
    }
   ],
   "source": [
    "cursor.execute(select_cmd)\n",
    "\n",
    "# Fetch all the values\n",
    "column_values = cursor.fetchall()\n",
    "len(column_values)"
   ]
  },
  {
   "cell_type": "code",
   "execution_count": 87,
   "id": "42d90a33-1286-4585-9390-f5a94f92be3a",
   "metadata": {},
   "outputs": [],
   "source": [
    "delete_data_cmd = f'''\n",
    "DELETE FROM {table_name};\n",
    "'''"
   ]
  },
  {
   "cell_type": "code",
   "execution_count": 108,
   "id": "920fafb0-0819-44b9-a840-298c497b07de",
   "metadata": {},
   "outputs": [],
   "source": [
    "cursor.execute(delete_data_cmd)"
   ]
  },
  {
   "cell_type": "code",
   "execution_count": null,
   "id": "cc725f35-7525-4873-9a04-8924ffab5602",
   "metadata": {},
   "outputs": [],
   "source": []
  }
 ],
 "metadata": {
  "kernelspec": {
   "display_name": "Python 3",
   "language": "python",
   "name": "python3"
  },
  "language_info": {
   "codemirror_mode": {
    "name": "ipython",
    "version": 3
   },
   "file_extension": ".py",
   "mimetype": "text/x-python",
   "name": "python",
   "nbconvert_exporter": "python",
   "pygments_lexer": "ipython3",
   "version": "3.8.8"
  }
 },
 "nbformat": 4,
 "nbformat_minor": 5
}
